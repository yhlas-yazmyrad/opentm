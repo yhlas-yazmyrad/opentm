{
  "nbformat": 4,
  "nbformat_minor": 0,
  "metadata": {
    "colab": {
      "provenance": [],
      "gpuType": "T4"
    },
    "kernelspec": {
      "name": "python3",
      "display_name": "Python 3"
    },
    "language_info": {
      "name": "python"
    },
    "accelerator": "GPU",
    "widgets": {
      "application/vnd.jupyter.widget-state+json": {
        "768e1b226bac4d5c9a16f62ab5d07430": {
          "model_module": "@jupyter-widgets/output",
          "model_name": "OutputModel",
          "model_module_version": "1.0.0",
          "state": {
            "_dom_classes": [],
            "_model_module": "@jupyter-widgets/output",
            "_model_module_version": "1.0.0",
            "_model_name": "OutputModel",
            "_view_count": null,
            "_view_module": "@jupyter-widgets/output",
            "_view_module_version": "1.0.0",
            "_view_name": "OutputView",
            "layout": "IPY_MODEL_4a220ae62237472f8c1a34e3869c9832",
            "msg_id": "",
            "outputs": [
              {
                "output_type": "display_data",
                "data": {
                  "text/plain": "Processing rollout for epoch: 0... \u001b[38;2;114;156;31m━━━━━━━━━━━━━━━━━━━━━━━━━━━━━━━━━━━━━━━━\u001b[0m \u001b[35m100%\u001b[0m \u001b[33m0:07:09\u001b[0m\n",
                  "text/html": "<pre style=\"white-space:pre;overflow-x:auto;line-height:normal;font-family:Menlo,'DejaVu Sans Mono',consolas,'Courier New',monospace\">Processing rollout for epoch: 0... <span style=\"color: #729c1f; text-decoration-color: #729c1f\">━━━━━━━━━━━━━━━━━━━━━━━━━━━━━━━━━━━━━━━━</span> <span style=\"color: #800080; text-decoration-color: #800080\">100%</span> <span style=\"color: #808000; text-decoration-color: #808000\">0:07:09</span>\n</pre>\n"
                },
                "metadata": {}
              }
            ]
          }
        },
        "4a220ae62237472f8c1a34e3869c9832": {
          "model_module": "@jupyter-widgets/base",
          "model_name": "LayoutModel",
          "model_module_version": "1.2.0",
          "state": {
            "_model_module": "@jupyter-widgets/base",
            "_model_module_version": "1.2.0",
            "_model_name": "LayoutModel",
            "_view_count": null,
            "_view_module": "@jupyter-widgets/base",
            "_view_module_version": "1.2.0",
            "_view_name": "LayoutView",
            "align_content": null,
            "align_items": null,
            "align_self": null,
            "border": null,
            "bottom": null,
            "display": null,
            "flex": null,
            "flex_flow": null,
            "grid_area": null,
            "grid_auto_columns": null,
            "grid_auto_flow": null,
            "grid_auto_rows": null,
            "grid_column": null,
            "grid_gap": null,
            "grid_row": null,
            "grid_template_areas": null,
            "grid_template_columns": null,
            "grid_template_rows": null,
            "height": null,
            "justify_content": null,
            "justify_items": null,
            "left": null,
            "margin": null,
            "max_height": null,
            "max_width": null,
            "min_height": null,
            "min_width": null,
            "object_fit": null,
            "object_position": null,
            "order": null,
            "overflow": null,
            "overflow_x": null,
            "overflow_y": null,
            "padding": null,
            "right": null,
            "top": null,
            "visibility": null,
            "width": null
          }
        },
        "5a7d3a021fa045478a706870bb78eef0": {
          "model_module": "@jupyter-widgets/output",
          "model_name": "OutputModel",
          "model_module_version": "1.0.0",
          "state": {
            "_dom_classes": [],
            "_model_module": "@jupyter-widgets/output",
            "_model_module_version": "1.0.0",
            "_model_name": "OutputModel",
            "_view_count": null,
            "_view_module": "@jupyter-widgets/output",
            "_view_module_version": "1.0.0",
            "_view_name": "OutputView",
            "layout": "IPY_MODEL_657d0182428c4e058ada0b2cbec3275f",
            "msg_id": "",
            "outputs": [
              {
                "output_type": "display_data",
                "data": {
                  "text/plain": "Updating... \u001b[38;5;237m━━━━━━━━━━━━━━━━━━━━━━━━━━━━━━━━━━━━━━━━\u001b[0m \u001b[35m  0%\u001b[0m \u001b[36m-:--:--\u001b[0m\n",
                  "text/html": "<pre style=\"white-space:pre;overflow-x:auto;line-height:normal;font-family:Menlo,'DejaVu Sans Mono',consolas,'Courier New',monospace\">Updating... <span style=\"color: #3a3a3a; text-decoration-color: #3a3a3a\">━━━━━━━━━━━━━━━━━━━━━━━━━━━━━━━━━━━━━━━━</span> <span style=\"color: #800080; text-decoration-color: #800080\">  0%</span> <span style=\"color: #008080; text-decoration-color: #008080\">-:--:--</span>\n</pre>\n"
                },
                "metadata": {}
              }
            ]
          }
        },
        "657d0182428c4e058ada0b2cbec3275f": {
          "model_module": "@jupyter-widgets/base",
          "model_name": "LayoutModel",
          "model_module_version": "1.2.0",
          "state": {
            "_model_module": "@jupyter-widgets/base",
            "_model_module_version": "1.2.0",
            "_model_name": "LayoutModel",
            "_view_count": null,
            "_view_module": "@jupyter-widgets/base",
            "_view_module_version": "1.2.0",
            "_view_name": "LayoutView",
            "align_content": null,
            "align_items": null,
            "align_self": null,
            "border": null,
            "bottom": null,
            "display": null,
            "flex": null,
            "flex_flow": null,
            "grid_area": null,
            "grid_auto_columns": null,
            "grid_auto_flow": null,
            "grid_auto_rows": null,
            "grid_column": null,
            "grid_gap": null,
            "grid_row": null,
            "grid_template_areas": null,
            "grid_template_columns": null,
            "grid_template_rows": null,
            "height": null,
            "justify_content": null,
            "justify_items": null,
            "left": null,
            "margin": null,
            "max_height": null,
            "max_width": null,
            "min_height": null,
            "min_width": null,
            "object_fit": null,
            "object_position": null,
            "order": null,
            "overflow": null,
            "overflow_x": null,
            "overflow_y": null,
            "padding": null,
            "right": null,
            "top": null,
            "visibility": null,
            "width": null
          }
        },
        "2572b420b4a94d499c5aa1d22729bec4": {
          "model_module": "@jupyter-widgets/output",
          "model_name": "OutputModel",
          "model_module_version": "1.0.0",
          "state": {
            "_dom_classes": [],
            "_model_module": "@jupyter-widgets/output",
            "_model_module_version": "1.0.0",
            "_model_name": "OutputModel",
            "_view_count": null,
            "_view_module": "@jupyter-widgets/output",
            "_view_module_version": "1.0.0",
            "_view_name": "OutputView",
            "layout": "IPY_MODEL_a2d0fb7198be41bcb8e16d46b10bbb91",
            "msg_id": "",
            "outputs": [
              {
                "output_type": "display_data",
                "data": {
                  "text/plain": "Processing rollout for epoch: 1... \u001b[38;2;114;156;31m━━━━━━━━━━━━━━━━━━━━━━━━━━━━━━━━━━━━━━━━\u001b[0m \u001b[35m100%\u001b[0m \u001b[33m0:06:23\u001b[0m\n",
                  "text/html": "<pre style=\"white-space:pre;overflow-x:auto;line-height:normal;font-family:Menlo,'DejaVu Sans Mono',consolas,'Courier New',monospace\">Processing rollout for epoch: 1... <span style=\"color: #729c1f; text-decoration-color: #729c1f\">━━━━━━━━━━━━━━━━━━━━━━━━━━━━━━━━━━━━━━━━</span> <span style=\"color: #800080; text-decoration-color: #800080\">100%</span> <span style=\"color: #808000; text-decoration-color: #808000\">0:06:23</span>\n</pre>\n"
                },
                "metadata": {}
              }
            ]
          }
        },
        "a2d0fb7198be41bcb8e16d46b10bbb91": {
          "model_module": "@jupyter-widgets/base",
          "model_name": "LayoutModel",
          "model_module_version": "1.2.0",
          "state": {
            "_model_module": "@jupyter-widgets/base",
            "_model_module_version": "1.2.0",
            "_model_name": "LayoutModel",
            "_view_count": null,
            "_view_module": "@jupyter-widgets/base",
            "_view_module_version": "1.2.0",
            "_view_name": "LayoutView",
            "align_content": null,
            "align_items": null,
            "align_self": null,
            "border": null,
            "bottom": null,
            "display": null,
            "flex": null,
            "flex_flow": null,
            "grid_area": null,
            "grid_auto_columns": null,
            "grid_auto_flow": null,
            "grid_auto_rows": null,
            "grid_column": null,
            "grid_gap": null,
            "grid_row": null,
            "grid_template_areas": null,
            "grid_template_columns": null,
            "grid_template_rows": null,
            "height": null,
            "justify_content": null,
            "justify_items": null,
            "left": null,
            "margin": null,
            "max_height": null,
            "max_width": null,
            "min_height": null,
            "min_width": null,
            "object_fit": null,
            "object_position": null,
            "order": null,
            "overflow": null,
            "overflow_x": null,
            "overflow_y": null,
            "padding": null,
            "right": null,
            "top": null,
            "visibility": null,
            "width": null
          }
        },
        "07d11ff3c583461cb4824f3ef58da2a2": {
          "model_module": "@jupyter-widgets/output",
          "model_name": "OutputModel",
          "model_module_version": "1.0.0",
          "state": {
            "_dom_classes": [],
            "_model_module": "@jupyter-widgets/output",
            "_model_module_version": "1.0.0",
            "_model_name": "OutputModel",
            "_view_count": null,
            "_view_module": "@jupyter-widgets/output",
            "_view_module_version": "1.0.0",
            "_view_name": "OutputView",
            "layout": "IPY_MODEL_1542f5817bf54f079629a85856768fd5",
            "msg_id": "",
            "outputs": [
              {
                "output_type": "display_data",
                "data": {
                  "text/plain": "Updating... \u001b[38;5;237m━━━━━━━━━━━━━━━━━━━━━━━━━━━━━━━━━━━━━━━━\u001b[0m \u001b[35m  0%\u001b[0m \u001b[36m-:--:--\u001b[0m\n",
                  "text/html": "<pre style=\"white-space:pre;overflow-x:auto;line-height:normal;font-family:Menlo,'DejaVu Sans Mono',consolas,'Courier New',monospace\">Updating... <span style=\"color: #3a3a3a; text-decoration-color: #3a3a3a\">━━━━━━━━━━━━━━━━━━━━━━━━━━━━━━━━━━━━━━━━</span> <span style=\"color: #800080; text-decoration-color: #800080\">  0%</span> <span style=\"color: #008080; text-decoration-color: #008080\">-:--:--</span>\n</pre>\n"
                },
                "metadata": {}
              }
            ]
          }
        },
        "1542f5817bf54f079629a85856768fd5": {
          "model_module": "@jupyter-widgets/base",
          "model_name": "LayoutModel",
          "model_module_version": "1.2.0",
          "state": {
            "_model_module": "@jupyter-widgets/base",
            "_model_module_version": "1.2.0",
            "_model_name": "LayoutModel",
            "_view_count": null,
            "_view_module": "@jupyter-widgets/base",
            "_view_module_version": "1.2.0",
            "_view_name": "LayoutView",
            "align_content": null,
            "align_items": null,
            "align_self": null,
            "border": null,
            "bottom": null,
            "display": null,
            "flex": null,
            "flex_flow": null,
            "grid_area": null,
            "grid_auto_columns": null,
            "grid_auto_flow": null,
            "grid_auto_rows": null,
            "grid_column": null,
            "grid_gap": null,
            "grid_row": null,
            "grid_template_areas": null,
            "grid_template_columns": null,
            "grid_template_rows": null,
            "height": null,
            "justify_content": null,
            "justify_items": null,
            "left": null,
            "margin": null,
            "max_height": null,
            "max_width": null,
            "min_height": null,
            "min_width": null,
            "object_fit": null,
            "object_position": null,
            "order": null,
            "overflow": null,
            "overflow_x": null,
            "overflow_y": null,
            "padding": null,
            "right": null,
            "top": null,
            "visibility": null,
            "width": null
          }
        }
      }
    }
  },
  "cells": [
    {
      "cell_type": "code",
      "execution_count": null,
      "metadata": {
        "id": "ifIal3ed4lqm"
      },
      "outputs": [],
      "source": [
        "!pip install omnisafe"
      ]
    },
    {
      "cell_type": "code",
      "source": [
        "!git clone https://github.com/PKU-Alignment/omnisafe\n",
        "%cd omnisafe\n",
        "\n",
        "## Install OmniSafe\n",
        "!pip install -e ."
      ],
      "metadata": {
        "id": "k4Zg0cN35vMB"
      },
      "execution_count": null,
      "outputs": []
    },
    {
      "cell_type": "code",
      "source": [
        "import omnisafe\n",
        "\n",
        "\n",
        "env_id = 'SafetyPointGoal1-v0'\n",
        "custom_cfgs = {\n",
        "    'train_cfgs': {\n",
        "        'total_steps': 200048,\n",
        "        'vector_env_nums': 1,\n",
        "        'parallel': 1,\n",
        "    },\n",
        "    'algo_cfgs': {\n",
        "        'steps_per_epoch': 100024,\n",
        "        'update_iters': 1,\n",
        "    },\n",
        "    'logger_cfgs': {\n",
        "        'use_wandb': False,\n",
        "    },\n",
        "}\n",
        "\n",
        "agent = omnisafe.Agent('P3O', env_id, custom_cfgs=custom_cfgs)\n",
        "agent.learn()"
      ],
      "metadata": {
        "colab": {
          "base_uri": "https://localhost:8080/",
          "height": 1000,
          "referenced_widgets": [
            "768e1b226bac4d5c9a16f62ab5d07430",
            "4a220ae62237472f8c1a34e3869c9832",
            "5a7d3a021fa045478a706870bb78eef0",
            "657d0182428c4e058ada0b2cbec3275f",
            "2572b420b4a94d499c5aa1d22729bec4",
            "a2d0fb7198be41bcb8e16d46b10bbb91",
            "07d11ff3c583461cb4824f3ef58da2a2",
            "1542f5817bf54f079629a85856768fd5"
          ]
        },
        "id": "klElI1OU6MWq",
        "outputId": "577cb43b-80a7-4fab-cbab-f9bf8b31db96"
      },
      "execution_count": 8,
      "outputs": [
        {
          "output_type": "stream",
          "name": "stdout",
          "text": [
            "Loading P3O.yaml from /content/omnisafe/omnisafe/utils/../configs/on-policy/P3O.yaml\n"
          ]
        },
        {
          "output_type": "display_data",
          "data": {
            "text/plain": [
              "\u001b[1;36mLogging data to .\u001b[0m\u001b[1;35m/runs/\u001b[0m\u001b[1;95mP3O-\u001b[0m\u001b[1;36m{\u001b[0m\u001b[1;36mSafetyPointGoal1-v0\u001b[0m\u001b[1;36m}\u001b[0m\u001b[1;35m/seed-000-2024-06-09-16-54-09/\u001b[0m\u001b[1;95mprogress.csv\u001b[0m\n"
            ],
            "text/html": [
              "<pre style=\"white-space:pre;overflow-x:auto;line-height:normal;font-family:Menlo,'DejaVu Sans Mono',consolas,'Courier New',monospace\"><span style=\"color: #008080; text-decoration-color: #008080; font-weight: bold\">Logging data to .</span><span style=\"color: #800080; text-decoration-color: #800080; font-weight: bold\">/runs/</span><span style=\"color: #ff00ff; text-decoration-color: #ff00ff; font-weight: bold\">P3O-</span><span style=\"color: #008080; text-decoration-color: #008080; font-weight: bold\">{SafetyPointGoal1-v0}</span><span style=\"color: #800080; text-decoration-color: #800080; font-weight: bold\">/seed-000-2024-06-09-16-54-09/</span><span style=\"color: #ff00ff; text-decoration-color: #ff00ff; font-weight: bold\">progress.csv</span>\n",
              "</pre>\n"
            ]
          },
          "metadata": {}
        },
        {
          "output_type": "display_data",
          "data": {
            "text/plain": [
              "\u001b[1;33mSave with config in config.json\u001b[0m\n"
            ],
            "text/html": [
              "<pre style=\"white-space:pre;overflow-x:auto;line-height:normal;font-family:Menlo,'DejaVu Sans Mono',consolas,'Courier New',monospace\"><span style=\"color: #808000; text-decoration-color: #808000; font-weight: bold\">Save with config in config.json</span>\n",
              "</pre>\n"
            ]
          },
          "metadata": {}
        },
        {
          "output_type": "display_data",
          "data": {
            "text/plain": [
              "\u001b[32mINFO: Start training\u001b[0m\n"
            ],
            "text/html": [
              "<pre style=\"white-space:pre;overflow-x:auto;line-height:normal;font-family:Menlo,'DejaVu Sans Mono',consolas,'Courier New',monospace\"><span style=\"color: #008000; text-decoration-color: #008000\">INFO: Start training</span>\n",
              "</pre>\n"
            ]
          },
          "metadata": {}
        },
        {
          "output_type": "display_data",
          "data": {
            "text/plain": [
              "Output()"
            ],
            "application/vnd.jupyter.widget-view+json": {
              "version_major": 2,
              "version_minor": 0,
              "model_id": "768e1b226bac4d5c9a16f62ab5d07430"
            }
          },
          "metadata": {}
        },
        {
          "output_type": "display_data",
          "data": {
            "text/plain": [
              "\n",
              "\u001b[32mWarning: trajectory cut off when rollout by epoch                            in \u001b[0m\u001b[1;36m1\u001b[0m\u001b[32m of \u001b[0m\u001b[1;36m1\u001b[0m\u001b[32m environments.\u001b[0m\n"
            ],
            "text/html": [
              "<pre style=\"white-space:pre;overflow-x:auto;line-height:normal;font-family:Menlo,'DejaVu Sans Mono',consolas,'Courier New',monospace\">\n",
              "<span style=\"color: #008000; text-decoration-color: #008000\">Warning: trajectory cut off when rollout by epoch                            in </span><span style=\"color: #008080; text-decoration-color: #008080; font-weight: bold\">1</span><span style=\"color: #008000; text-decoration-color: #008000\"> of </span><span style=\"color: #008080; text-decoration-color: #008080; font-weight: bold\">1</span><span style=\"color: #008000; text-decoration-color: #008000\"> environments.</span>\n",
              "</pre>\n"
            ]
          },
          "metadata": {}
        },
        {
          "output_type": "display_data",
          "data": {
            "text/plain": [],
            "text/html": [
              "<pre style=\"white-space:pre;overflow-x:auto;line-height:normal;font-family:Menlo,'DejaVu Sans Mono',consolas,'Courier New',monospace\"></pre>\n"
            ]
          },
          "metadata": {}
        },
        {
          "output_type": "display_data",
          "data": {
            "text/plain": [
              "\n"
            ],
            "text/html": [
              "<pre style=\"white-space:pre;overflow-x:auto;line-height:normal;font-family:Menlo,'DejaVu Sans Mono',consolas,'Courier New',monospace\">\n",
              "</pre>\n"
            ]
          },
          "metadata": {}
        },
        {
          "output_type": "display_data",
          "data": {
            "text/plain": [
              "Output()"
            ],
            "application/vnd.jupyter.widget-view+json": {
              "version_major": 2,
              "version_minor": 0,
              "model_id": "5a7d3a021fa045478a706870bb78eef0"
            }
          },
          "metadata": {}
        },
        {
          "output_type": "display_data",
          "data": {
            "text/plain": [
              "\u001b[32mEarly stopping at iter \u001b[0m\u001b[1;36m1\u001b[0m\u001b[32m due to reaching max kl\u001b[0m\n"
            ],
            "text/html": [
              "<pre style=\"white-space:pre;overflow-x:auto;line-height:normal;font-family:Menlo,'DejaVu Sans Mono',consolas,'Courier New',monospace\"><span style=\"color: #008000; text-decoration-color: #008000\">Early stopping at iter </span><span style=\"color: #008080; text-decoration-color: #008080; font-weight: bold\">1</span><span style=\"color: #008000; text-decoration-color: #008000\"> due to reaching max kl</span>\n",
              "</pre>\n"
            ]
          },
          "metadata": {}
        },
        {
          "output_type": "display_data",
          "data": {
            "text/plain": [],
            "text/html": [
              "<pre style=\"white-space:pre;overflow-x:auto;line-height:normal;font-family:Menlo,'DejaVu Sans Mono',consolas,'Courier New',monospace\"></pre>\n"
            ]
          },
          "metadata": {}
        },
        {
          "output_type": "display_data",
          "data": {
            "text/plain": [
              "\n"
            ],
            "text/html": [
              "<pre style=\"white-space:pre;overflow-x:auto;line-height:normal;font-family:Menlo,'DejaVu Sans Mono',consolas,'Courier New',monospace\">\n",
              "</pre>\n"
            ]
          },
          "metadata": {}
        },
        {
          "output_type": "display_data",
          "data": {
            "text/plain": [
              "┏━━━━━━━━━━━━━━━━━━━━━━━━━━━━━━━┳━━━━━━━━━━━━━━━━━━━━━━━┓\n",
              "┃\u001b[1m \u001b[0m\u001b[1mMetrics                      \u001b[0m\u001b[1m \u001b[0m┃\u001b[1m \u001b[0m\u001b[1mValue                \u001b[0m\u001b[1m \u001b[0m┃\n",
              "┡━━━━━━━━━━━━━━━━━━━━━━━━━━━━━━━╇━━━━━━━━━━━━━━━━━━━━━━━┩\n",
              "│ Metrics/EpRet                 │ -0.32260286808013916  │\n",
              "│ Metrics/EpCost                │ 60.04999923706055     │\n",
              "│ Metrics/EpLen                 │ 1000.0                │\n",
              "│ Train/Epoch                   │ 0.0                   │\n",
              "│ Train/Entropy                 │ 1.4364852905273438    │\n",
              "│ Train/KL                      │ 2.279217481613159     │\n",
              "│ Train/StopIter                │ 1.0                   │\n",
              "│ Train/PolicyRatio/Mean        │ 1.0053203105926514    │\n",
              "│ Train/PolicyRatio/Min         │ 1.0053203105926514    │\n",
              "│ Train/PolicyRatio/Max         │ 1.0053203105926514    │\n",
              "│ Train/PolicyRatio/Std         │ 0.8453530073165894    │\n",
              "│ Train/LR                      │ 0.0001500000071246177 │\n",
              "│ Train/PolicyStd               │ 1.0177593231201172    │\n",
              "│ TotalEnvSteps                 │ 100024.0              │\n",
              "│ Loss/Loss_pi                  │ 0.2326166182756424    │\n",
              "│ Loss/Loss_pi/Delta            │ 0.2326166182756424    │\n",
              "│ Value/Adv                     │ 0.40835076570510864   │\n",
              "│ Loss/Loss_reward_critic       │ 0.013130146078765392  │\n",
              "│ Loss/Loss_reward_critic/Delta │ 0.013130146078765392  │\n",
              "│ Value/reward                  │ 0.008268145844340324  │\n",
              "│ Loss/Loss_cost_critic         │ 12.278093338012695    │\n",
              "│ Loss/Loss_cost_critic/Delta   │ 12.278093338012695    │\n",
              "│ Value/cost                    │ -0.1438000500202179   │\n",
              "│ Time/Total                    │ 458.79388427734375    │\n",
              "│ Time/Rollout                  │ 430.7095642089844     │\n",
              "│ Time/Update                   │ 28.082120895385742    │\n",
              "│ Time/Epoch                    │ 458.7917785644531     │\n",
              "│ Time/FPS                      │ 218.01611328125       │\n",
              "│ Loss/Loss_pi_cost             │ 701.2986450195312     │\n",
              "│ Loss/Loss_pi_cost/Delta       │ 701.2986450195312     │\n",
              "└───────────────────────────────┴───────────────────────┘\n"
            ],
            "text/html": [
              "<pre style=\"white-space:pre;overflow-x:auto;line-height:normal;font-family:Menlo,'DejaVu Sans Mono',consolas,'Courier New',monospace\">┏━━━━━━━━━━━━━━━━━━━━━━━━━━━━━━━┳━━━━━━━━━━━━━━━━━━━━━━━┓\n",
              "┃<span style=\"font-weight: bold\"> Metrics                       </span>┃<span style=\"font-weight: bold\"> Value                 </span>┃\n",
              "┡━━━━━━━━━━━━━━━━━━━━━━━━━━━━━━━╇━━━━━━━━━━━━━━━━━━━━━━━┩\n",
              "│ Metrics/EpRet                 │ -0.32260286808013916  │\n",
              "│ Metrics/EpCost                │ 60.04999923706055     │\n",
              "│ Metrics/EpLen                 │ 1000.0                │\n",
              "│ Train/Epoch                   │ 0.0                   │\n",
              "│ Train/Entropy                 │ 1.4364852905273438    │\n",
              "│ Train/KL                      │ 2.279217481613159     │\n",
              "│ Train/StopIter                │ 1.0                   │\n",
              "│ Train/PolicyRatio/Mean        │ 1.0053203105926514    │\n",
              "│ Train/PolicyRatio/Min         │ 1.0053203105926514    │\n",
              "│ Train/PolicyRatio/Max         │ 1.0053203105926514    │\n",
              "│ Train/PolicyRatio/Std         │ 0.8453530073165894    │\n",
              "│ Train/LR                      │ 0.0001500000071246177 │\n",
              "│ Train/PolicyStd               │ 1.0177593231201172    │\n",
              "│ TotalEnvSteps                 │ 100024.0              │\n",
              "│ Loss/Loss_pi                  │ 0.2326166182756424    │\n",
              "│ Loss/Loss_pi/Delta            │ 0.2326166182756424    │\n",
              "│ Value/Adv                     │ 0.40835076570510864   │\n",
              "│ Loss/Loss_reward_critic       │ 0.013130146078765392  │\n",
              "│ Loss/Loss_reward_critic/Delta │ 0.013130146078765392  │\n",
              "│ Value/reward                  │ 0.008268145844340324  │\n",
              "│ Loss/Loss_cost_critic         │ 12.278093338012695    │\n",
              "│ Loss/Loss_cost_critic/Delta   │ 12.278093338012695    │\n",
              "│ Value/cost                    │ -0.1438000500202179   │\n",
              "│ Time/Total                    │ 458.79388427734375    │\n",
              "│ Time/Rollout                  │ 430.7095642089844     │\n",
              "│ Time/Update                   │ 28.082120895385742    │\n",
              "│ Time/Epoch                    │ 458.7917785644531     │\n",
              "│ Time/FPS                      │ 218.01611328125       │\n",
              "│ Loss/Loss_pi_cost             │ 701.2986450195312     │\n",
              "│ Loss/Loss_pi_cost/Delta       │ 701.2986450195312     │\n",
              "└───────────────────────────────┴───────────────────────┘\n",
              "</pre>\n"
            ]
          },
          "metadata": {}
        },
        {
          "output_type": "display_data",
          "data": {
            "text/plain": [
              "Output()"
            ],
            "application/vnd.jupyter.widget-view+json": {
              "version_major": 2,
              "version_minor": 0,
              "model_id": "2572b420b4a94d499c5aa1d22729bec4"
            }
          },
          "metadata": {}
        },
        {
          "output_type": "display_data",
          "data": {
            "text/plain": [
              "\n",
              "\u001b[32mWarning: trajectory cut off when rollout by epoch                            in \u001b[0m\u001b[1;36m1\u001b[0m\u001b[32m of \u001b[0m\u001b[1;36m1\u001b[0m\u001b[32m environments.\u001b[0m\n"
            ],
            "text/html": [
              "<pre style=\"white-space:pre;overflow-x:auto;line-height:normal;font-family:Menlo,'DejaVu Sans Mono',consolas,'Courier New',monospace\">\n",
              "<span style=\"color: #008000; text-decoration-color: #008000\">Warning: trajectory cut off when rollout by epoch                            in </span><span style=\"color: #008080; text-decoration-color: #008080; font-weight: bold\">1</span><span style=\"color: #008000; text-decoration-color: #008000\"> of </span><span style=\"color: #008080; text-decoration-color: #008080; font-weight: bold\">1</span><span style=\"color: #008000; text-decoration-color: #008000\"> environments.</span>\n",
              "</pre>\n"
            ]
          },
          "metadata": {}
        },
        {
          "output_type": "display_data",
          "data": {
            "text/plain": [],
            "text/html": [
              "<pre style=\"white-space:pre;overflow-x:auto;line-height:normal;font-family:Menlo,'DejaVu Sans Mono',consolas,'Courier New',monospace\"></pre>\n"
            ]
          },
          "metadata": {}
        },
        {
          "output_type": "display_data",
          "data": {
            "text/plain": [
              "\n"
            ],
            "text/html": [
              "<pre style=\"white-space:pre;overflow-x:auto;line-height:normal;font-family:Menlo,'DejaVu Sans Mono',consolas,'Courier New',monospace\">\n",
              "</pre>\n"
            ]
          },
          "metadata": {}
        },
        {
          "output_type": "display_data",
          "data": {
            "text/plain": [
              "Output()"
            ],
            "application/vnd.jupyter.widget-view+json": {
              "version_major": 2,
              "version_minor": 0,
              "model_id": "07d11ff3c583461cb4824f3ef58da2a2"
            }
          },
          "metadata": {}
        },
        {
          "output_type": "display_data",
          "data": {
            "text/plain": [
              "\u001b[32mEarly stopping at iter \u001b[0m\u001b[1;36m1\u001b[0m\u001b[32m due to reaching max kl\u001b[0m\n"
            ],
            "text/html": [
              "<pre style=\"white-space:pre;overflow-x:auto;line-height:normal;font-family:Menlo,'DejaVu Sans Mono',consolas,'Courier New',monospace\"><span style=\"color: #008000; text-decoration-color: #008000\">Early stopping at iter </span><span style=\"color: #008080; text-decoration-color: #008080; font-weight: bold\">1</span><span style=\"color: #008000; text-decoration-color: #008000\"> due to reaching max kl</span>\n",
              "</pre>\n"
            ]
          },
          "metadata": {}
        },
        {
          "output_type": "display_data",
          "data": {
            "text/plain": [],
            "text/html": [
              "<pre style=\"white-space:pre;overflow-x:auto;line-height:normal;font-family:Menlo,'DejaVu Sans Mono',consolas,'Courier New',monospace\"></pre>\n"
            ]
          },
          "metadata": {}
        },
        {
          "output_type": "display_data",
          "data": {
            "text/plain": [
              "\n"
            ],
            "text/html": [
              "<pre style=\"white-space:pre;overflow-x:auto;line-height:normal;font-family:Menlo,'DejaVu Sans Mono',consolas,'Courier New',monospace\">\n",
              "</pre>\n"
            ]
          },
          "metadata": {}
        },
        {
          "output_type": "display_data",
          "data": {
            "text/plain": [
              "┏━━━━━━━━━━━━━━━━━━━━━━━━━━━━━━━┳━━━━━━━━━━━━━━━━━━━━━━━┓\n",
              "┃\u001b[1m \u001b[0m\u001b[1mMetrics                      \u001b[0m\u001b[1m \u001b[0m┃\u001b[1m \u001b[0m\u001b[1mValue                \u001b[0m\u001b[1m \u001b[0m┃\n",
              "┡━━━━━━━━━━━━━━━━━━━━━━━━━━━━━━━╇━━━━━━━━━━━━━━━━━━━━━━━┩\n",
              "│ Metrics/EpRet                 │ -0.7159189581871033   │\n",
              "│ Metrics/EpCost                │ 39.959999084472656    │\n",
              "│ Metrics/EpLen                 │ 1000.0                │\n",
              "│ Train/Epoch                   │ 1.0                   │\n",
              "│ Train/Entropy                 │ 1.420250654220581     │\n",
              "│ Train/KL                      │ 2.069831609725952     │\n",
              "│ Train/StopIter                │ 1.0                   │\n",
              "│ Train/PolicyRatio/Mean        │ 0.9722957611083984    │\n",
              "│ Train/PolicyRatio/Min         │ 0.9722957611083984    │\n",
              "│ Train/PolicyRatio/Max         │ 0.9722957611083984    │\n",
              "│ Train/PolicyRatio/Std         │ 0.7090268135070801    │\n",
              "│ Train/LR                      │ 0.0                   │\n",
              "│ Train/PolicyStd               │ 1.0013227462768555    │\n",
              "│ TotalEnvSteps                 │ 200048.0              │\n",
              "│ Loss/Loss_pi                  │ 0.19118401408195496   │\n",
              "│ Loss/Loss_pi/Delta            │ -0.04143260419368744  │\n",
              "│ Value/Adv                     │ 0.006323221605271101  │\n",
              "│ Loss/Loss_reward_critic       │ 0.009161781519651413  │\n",
              "│ Loss/Loss_reward_critic/Delta │ -0.003968364559113979 │\n",
              "│ Value/reward                  │ -0.022580767050385475 │\n",
              "│ Loss/Loss_cost_critic         │ 5.911561489105225     │\n",
              "│ Loss/Loss_cost_critic/Delta   │ -6.366531848907471    │\n",
              "│ Value/cost                    │ 0.40789228677749634   │\n",
              "│ Time/Total                    │ 873.0325927734375     │\n",
              "│ Time/Rollout                  │ 385.4725646972656     │\n",
              "│ Time/Update                   │ 28.669410705566406    │\n",
              "│ Time/Epoch                    │ 414.1420593261719     │\n",
              "│ Time/FPS                      │ 241.52099609375       │\n",
              "│ Loss/Loss_pi_cost             │ 297.0965270996094     │\n",
              "│ Loss/Loss_pi_cost/Delta       │ -404.2021179199219    │\n",
              "└───────────────────────────────┴───────────────────────┘\n"
            ],
            "text/html": [
              "<pre style=\"white-space:pre;overflow-x:auto;line-height:normal;font-family:Menlo,'DejaVu Sans Mono',consolas,'Courier New',monospace\">┏━━━━━━━━━━━━━━━━━━━━━━━━━━━━━━━┳━━━━━━━━━━━━━━━━━━━━━━━┓\n",
              "┃<span style=\"font-weight: bold\"> Metrics                       </span>┃<span style=\"font-weight: bold\"> Value                 </span>┃\n",
              "┡━━━━━━━━━━━━━━━━━━━━━━━━━━━━━━━╇━━━━━━━━━━━━━━━━━━━━━━━┩\n",
              "│ Metrics/EpRet                 │ -0.7159189581871033   │\n",
              "│ Metrics/EpCost                │ 39.959999084472656    │\n",
              "│ Metrics/EpLen                 │ 1000.0                │\n",
              "│ Train/Epoch                   │ 1.0                   │\n",
              "│ Train/Entropy                 │ 1.420250654220581     │\n",
              "│ Train/KL                      │ 2.069831609725952     │\n",
              "│ Train/StopIter                │ 1.0                   │\n",
              "│ Train/PolicyRatio/Mean        │ 0.9722957611083984    │\n",
              "│ Train/PolicyRatio/Min         │ 0.9722957611083984    │\n",
              "│ Train/PolicyRatio/Max         │ 0.9722957611083984    │\n",
              "│ Train/PolicyRatio/Std         │ 0.7090268135070801    │\n",
              "│ Train/LR                      │ 0.0                   │\n",
              "│ Train/PolicyStd               │ 1.0013227462768555    │\n",
              "│ TotalEnvSteps                 │ 200048.0              │\n",
              "│ Loss/Loss_pi                  │ 0.19118401408195496   │\n",
              "│ Loss/Loss_pi/Delta            │ -0.04143260419368744  │\n",
              "│ Value/Adv                     │ 0.006323221605271101  │\n",
              "│ Loss/Loss_reward_critic       │ 0.009161781519651413  │\n",
              "│ Loss/Loss_reward_critic/Delta │ -0.003968364559113979 │\n",
              "│ Value/reward                  │ -0.022580767050385475 │\n",
              "│ Loss/Loss_cost_critic         │ 5.911561489105225     │\n",
              "│ Loss/Loss_cost_critic/Delta   │ -6.366531848907471    │\n",
              "│ Value/cost                    │ 0.40789228677749634   │\n",
              "│ Time/Total                    │ 873.0325927734375     │\n",
              "│ Time/Rollout                  │ 385.4725646972656     │\n",
              "│ Time/Update                   │ 28.669410705566406    │\n",
              "│ Time/Epoch                    │ 414.1420593261719     │\n",
              "│ Time/FPS                      │ 241.52099609375       │\n",
              "│ Loss/Loss_pi_cost             │ 297.0965270996094     │\n",
              "│ Loss/Loss_pi_cost/Delta       │ -404.2021179199219    │\n",
              "└───────────────────────────────┴───────────────────────┘\n",
              "</pre>\n"
            ]
          },
          "metadata": {}
        },
        {
          "output_type": "execute_result",
          "data": {
            "text/plain": [
              "(-0.7159189581871033, 39.959999084472656, 1000.0)"
            ]
          },
          "metadata": {},
          "execution_count": 8
        }
      ]
    },
    {
      "cell_type": "code",
      "source": [
        "agent.plot()"
      ],
      "metadata": {
        "colab": {
          "base_uri": "https://localhost:8080/",
          "height": 521
        },
        "id": "oykP5vN66WkU",
        "outputId": "9cf1ca6b-e1da-4bf3-80e6-fa104967da84"
      },
      "execution_count": 12,
      "outputs": [
        {
          "output_type": "stream",
          "name": "stdout",
          "text": [
            "Plotting from...\n",
            "==================================================\n",
            "\n",
            "./runs/P3O-{SafetyPointGoal1-v0}/seed-000-2024-06-09-16-54-09\n",
            "\n",
            "==================================================\n"
          ]
        },
        {
          "output_type": "display_data",
          "data": {
            "text/plain": [
              "<Figure size 1500x500 with 2 Axes>"
            ],
            "image/png": "[encoded data removed]"
          },
          "metadata": {}
        }
      ]
    },
    {
      "cell_type": "code",
      "source": [
        "%%bash\n",
        "apt-get install libosmesa6-dev\n",
        "apt-get install python3-opengl"
      ],
      "metadata": {
        "id": "HrLCdP2x6jsB"
      },
      "execution_count": null,
      "outputs": []
    },
    {
      "cell_type": "code",
      "source": [
        "%env MUJOCO_GL=osmesa\n",
        "%env PYOPENGL_PLATFORM=osmesa"
      ],
      "metadata": {
        "colab": {
          "base_uri": "https://localhost:8080/"
        },
        "id": "c0lydPVg7Xrl",
        "outputId": "911c6693-a2de-4416-bd89-3d0e86817330"
      },
      "execution_count": 14,
      "outputs": [
        {
          "output_type": "stream",
          "name": "stdout",
          "text": [
            "env: MUJOCO_GL=osmesa\n",
            "env: PYOPENGL_PLATFORM=osmesa\n"
          ]
        }
      ]
    },
    {
      "cell_type": "code",
      "source": [
        "agent.render(num_episodes=1, render_mode='rgb_array', width=256, height=256)"
      ],
      "metadata": {
        "colab": {
          "base_uri": "https://localhost:8080/"
        },
        "id": "EUTYSB8e7Zpd",
        "outputId": "40e73b0e-f412-4962-ee7f-aef6e429fb37"
      },
      "execution_count": 15,
      "outputs": [
        {
          "output_type": "stream",
          "name": "stdout",
          "text": [
            "\n",
            "##################################################\n",
            "\n",
            "Saving the replay video to ./runs/P3O-{SafetyPointGoal1-v0}/seed-000-2024-06-09-16-54-09/video/epoch-0,\n",
            " and the result to ./runs/P3O-{SafetyPointGoal1-v0}/seed-000-2024-06-09-16-54-09/video/epoch-0/result.txt.\n",
            "\n",
            "##################################################\n",
            "\n",
            "Moviepy - Building video /content/omnisafe/runs/P3O-{SafetyPointGoal1-v0}/seed-000-2024-06-09-16-54-09/video/epoch-0/eval-episode-0.mp4.\n",
            "Moviepy - Writing video /content/omnisafe/runs/P3O-{SafetyPointGoal1-v0}/seed-000-2024-06-09-16-54-09/video/epoch-0/eval-episode-0.mp4\n",
            "\n"
          ]
        },
        {
          "output_type": "stream",
          "name": "stderr",
          "text": []
        },
        {
          "output_type": "stream",
          "name": "stdout",
          "text": [
            "Moviepy - Done !\n",
            "Moviepy - video ready /content/omnisafe/runs/P3O-{SafetyPointGoal1-v0}/seed-000-2024-06-09-16-54-09/video/epoch-0/eval-episode-0.mp4\n",
            "\n",
            "##################################################\n",
            "\n",
            "\n",
            "##################################################\n",
            "\n",
            "Saving the replay video to ./runs/P3O-{SafetyPointGoal1-v0}/seed-000-2024-06-09-16-54-09/video/epoch-2,\n",
            " and the result to ./runs/P3O-{SafetyPointGoal1-v0}/seed-000-2024-06-09-16-54-09/video/epoch-2/result.txt.\n",
            "\n",
            "##################################################\n",
            "\n",
            "Moviepy - Building video /content/omnisafe/runs/P3O-{SafetyPointGoal1-v0}/seed-000-2024-06-09-16-54-09/video/epoch-2/eval-episode-0.mp4.\n",
            "Moviepy - Writing video /content/omnisafe/runs/P3O-{SafetyPointGoal1-v0}/seed-000-2024-06-09-16-54-09/video/epoch-2/eval-episode-0.mp4\n",
            "\n"
          ]
        },
        {
          "output_type": "stream",
          "name": "stderr",
          "text": []
        },
        {
          "output_type": "stream",
          "name": "stdout",
          "text": [
            "Moviepy - Done !\n",
            "Moviepy - video ready /content/omnisafe/runs/P3O-{SafetyPointGoal1-v0}/seed-000-2024-06-09-16-54-09/video/epoch-2/eval-episode-0.mp4\n",
            "\n",
            "##################################################\n",
            "\n"
          ]
        }
      ]
    },
    {
      "cell_type": "code",
      "source": [
        "import base64\n",
        "from pathlib import Path\n",
        "\n",
        "from IPython import display as ipythondisplay\n",
        "\n",
        "\n",
        "def show_videos(video_path='', prefix=''):\n",
        "    \"\"\"\n",
        "    Taken from https://github.com/eleurent/highway-env\n",
        "\n",
        "    :param video_path: (str) Path to the folder containing videos\n",
        "    :param prefix: (str) Filter the video, showing only the only starting with this prefix\n",
        "    \"\"\"\n",
        "    html = []\n",
        "    for mp4 in Path(video_path).glob(\"{}*.mp4\".format(prefix)):\n",
        "        video_b64 = base64.b64encode(mp4.read_bytes())\n",
        "        html.append(\n",
        "            '''<video alt=\"{}\" autoplay\n",
        "                    loop controls style=\"height: 400px;\">\n",
        "                    <source src=\"data:video/mp4;base64,{}\" type=\"video/mp4\" />\n",
        "                </video>'''.format(\n",
        "                mp4, video_b64.decode('ascii')\n",
        "            )\n",
        "        )\n",
        "    ipythondisplay.display(ipythondisplay.HTML(data=\"<br>\".join(html)))\n",
        "\n",
        "\n",
        "# Please fill the path of folder containing your video which is shown above here\n",
        "show_videos(video_path='/omnisafe/runs/P3O-{SafetyPointGoal1-v0}/seed-000-2024-06-09-16-54-09/video/epoch-2/eval-episode-0.mp4')"
      ],
      "metadata": {
        "colab": {
          "base_uri": "https://localhost:8080/",
          "height": 17
        },
        "id": "RruzzTDN8AMl",
        "outputId": "e1f050d2-4db5-45cf-9726-10f49684c07d"
      },
      "execution_count": 20,
      "outputs": [
        {
          "output_type": "display_data",
          "data": {
            "text/plain": [
              "<IPython.core.display.HTML object>"
            ],
            "text/html": []
          },
          "metadata": {}
        }
      ]
    },
    {
      "cell_type": "code",
      "source": [],
      "metadata": {
        "id": "X6d4P2Lk_5jp"
      },
      "execution_count": null,
      "outputs": []
    }
  ]
}